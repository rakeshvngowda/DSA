{
 "cells": [
  {
   "cell_type": "markdown",
   "metadata": {},
   "source": [
    "# Queues\n",
    "A queue is a data structure that can hold many elements.\n",
    "The first person to stand in line is also the first who can pay and leave the supermarket. This way of organizing elements is called FIFO: First In First Out.\n",
    "\n",
    "Basic operations we can do on a queue are:\n",
    "\n",
    "1.Enqueue: Adds a new element to the queue.\n",
    "2.Dequeue: Removes and returns the first (front) element from the queue.\n",
    "3.Peek: Returns the first element in the queue.\n",
    "4.isEmpty: Checks if the queue is empty.\n",
    "5.Size: Finds the number of elements in the queue."
   ]
  },
  {
   "cell_type": "code",
   "execution_count": 1,
   "metadata": {},
   "outputs": [
    {
     "name": "stdout",
     "output_type": "stream",
     "text": [
      "Queue:  ['A', 'B', 'C']\n",
      "Dequeue  A\n",
      "Peek:  B\n",
      "isEmpty:  False\n",
      "Size:  2\n"
     ]
    }
   ],
   "source": [
    "queue = []\n",
    "\n",
    "# Enqueue\n",
    "queue.append('A')\n",
    "queue.append('B')\n",
    "queue.append('C')\n",
    "print(\"Queue: \",queue)\n",
    "\n",
    "# Deque\n",
    "element = queue.pop(0)\n",
    "print(\"Dequeue \",element)\n",
    "\n",
    "# Peek\n",
    "frontElement = queue[0]\n",
    "print(\"Peek: \",frontElement)\n",
    "\n",
    "# isEmpty\n",
    "isEmpty = not bool(queue)\n",
    "print(\"isEmpty: \",isEmpty)\n",
    "\n",
    "# Size\n",
    "print(\"Size: \",len(queue))\n",
    "\n"
   ]
  },
  {
   "cell_type": "markdown",
   "metadata": {},
   "source": [
    "### 2.Queues implementation using class"
   ]
  },
  {
   "cell_type": "code",
   "execution_count": 9,
   "metadata": {},
   "outputs": [
    {
     "name": "stdout",
     "output_type": "stream",
     "text": [
      "enqueue:  ['A', 'B', 'C']\n",
      "dequeue:  A\n",
      "enqueue:  ['B', 'C']\n",
      "isEmpty:  False\n",
      "size:  2\n",
      "peek:  B\n"
     ]
    }
   ],
   "source": [
    "class Queue:\n",
    "    def __init__(self):\n",
    "        self.queue = []\n",
    "\n",
    "    # enqueue - add elment at last index\n",
    "    def enqueue(self,element):\n",
    "        self.queue.append(element)\n",
    "\n",
    "    def dequeue(self):\n",
    "        element = self.queue.pop(0)\n",
    "        return element\n",
    "    \n",
    "    # returns first element in queue\n",
    "    def peek(self):\n",
    "        return self.queue[0]\n",
    "    \n",
    "    def isEmpty(self):\n",
    "        return not bool(self.queue)\n",
    "    \n",
    "    # returns size of queue\n",
    "    def size(self):\n",
    "        return len(self.queue)\n",
    "    \n",
    "\n",
    "myQueue = Queue()\n",
    "\n",
    "# enqueue\n",
    "myQueue.enqueue('A')\n",
    "myQueue.enqueue('B')\n",
    "myQueue.enqueue('C')\n",
    "print(\"enqueue: \",myQueue.queue)\n",
    "\n",
    "# dequeue\n",
    "element = myQueue.dequeue()\n",
    "print(\"dequeue: \",element)\n",
    "print(\"enqueue: \",myQueue.queue)\n",
    "\n",
    "print(\"isEmpty: \",myQueue.isEmpty())\n",
    "\n",
    "print(\"size: \",myQueue.size())\n",
    "\n",
    "print(\"peek: \",myQueue.peek())"
   ]
  },
  {
   "cell_type": "markdown",
   "metadata": {},
   "source": [
    "### 3. Queue Implementation using linkedList"
   ]
  },
  {
   "cell_type": "code",
   "execution_count": 17,
   "metadata": {},
   "outputs": [
    {
     "name": "stdout",
     "output_type": "stream",
     "text": [
      "A -> B -> C -> \n",
      "dequeue:  A\n",
      "peekElem:  B\n",
      "isEmpty:  False\n",
      "size:  2\n"
     ]
    }
   ],
   "source": [
    "class Node:\n",
    "    def __init__(self,data) -> None:\n",
    "        self.data = data\n",
    "        self.next = None\n",
    "\n",
    "\n",
    "class Queue:\n",
    "    def __init__(self):\n",
    "        self.front = None\n",
    "        self.rear = None\n",
    "        self.length = 0\n",
    "\n",
    "    def enqueue(self,element):\n",
    "        new_node = Node(element)\n",
    "        if self.rear is None:\n",
    "            self.front = self.rear = new_node\n",
    "            self.length +=1\n",
    "            return\n",
    "        self.rear.next = new_node\n",
    "        self.rear = new_node\n",
    "        self.length += 1\n",
    "\n",
    "    def dequeue(self):\n",
    "        if self.isEmpty(): return \"Queue is Empty\"\n",
    "        temp = self.front\n",
    "        self.front = temp.next\n",
    "        self.length -= 1\n",
    "        if self.front is None:\n",
    "            self.rear = None\n",
    "        return temp.data\n",
    "    \n",
    "    def isEmpty(self):\n",
    "        return self.length == 0\n",
    "    \n",
    "    def size(self):\n",
    "        return self.length\n",
    "    \n",
    "    def peek(self):\n",
    "        return self.front.data\n",
    "    \n",
    "    def printQueue(self):\n",
    "        temp = self.front\n",
    "\n",
    "        while temp:\n",
    "            print(temp.data,end=\" -> \")\n",
    "            temp = temp.next\n",
    "        print()\n",
    "    \n",
    "# create a queue\n",
    "myQueue = Queue()\n",
    "\n",
    "# enqueue\n",
    "myQueue.enqueue('A')\n",
    "myQueue.enqueue('B')\n",
    "myQueue.enqueue('C')\n",
    "myQueue.printQueue()\n",
    "\n",
    "\n",
    "# dequeue\n",
    "dequeueElement = myQueue.dequeue()\n",
    "print(\"dequeue: \",dequeueElement)\n",
    "\n",
    "# Peek\n",
    "peekElem = myQueue.peek()\n",
    "print(\"peekElem: \",peekElem)\n",
    "\n",
    "# isEMpty\n",
    "print('isEmpty: ',myQueue.isEmpty())\n",
    "\n",
    "# size\n",
    "print('size: ',myQueue.size())\n"
   ]
  },
  {
   "cell_type": "code",
   "execution_count": null,
   "metadata": {},
   "outputs": [],
   "source": []
  }
 ],
 "metadata": {
  "kernelspec": {
   "display_name": "Python 3",
   "language": "python",
   "name": "python3"
  },
  "language_info": {
   "codemirror_mode": {
    "name": "ipython",
    "version": 3
   },
   "file_extension": ".py",
   "mimetype": "text/x-python",
   "name": "python",
   "nbconvert_exporter": "python",
   "pygments_lexer": "ipython3",
   "version": "3.10.12"
  }
 },
 "nbformat": 4,
 "nbformat_minor": 2
}
