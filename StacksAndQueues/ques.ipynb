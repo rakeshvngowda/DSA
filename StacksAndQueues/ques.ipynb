{
 "cells": [
  {
   "cell_type": "markdown",
   "metadata": {},
   "source": [
    "# Queues\n",
    "A queue is a data structure that can hold many elements.\n",
    "The first person to stand in line is also the first who can pay and leave the supermarket. This way of organizing elements is called FIFO: First In First Out.\n",
    "\n",
    "Basic operations we can do on a queue are:\n",
    "\n",
    "1.Enqueue: Adds a new element to the queue.\n",
    "2.Dequeue: Removes and returns the first (front) element from the queue.\n",
    "3.Peek: Returns the first element in the queue.\n",
    "4.isEmpty: Checks if the queue is empty.\n",
    "5.Size: Finds the number of elements in the queue."
   ]
  },
  {
   "cell_type": "code",
   "execution_count": 1,
   "metadata": {},
   "outputs": [
    {
     "name": "stdout",
     "output_type": "stream",
     "text": [
      "Queue:  ['A', 'B', 'C']\n",
      "Dequeue  A\n",
      "Peek:  B\n",
      "isEmpty:  False\n",
      "Size:  2\n"
     ]
    }
   ],
   "source": [
    "queue = []\n",
    "\n",
    "# Enqueue\n",
    "queue.append('A')\n",
    "queue.append('B')\n",
    "queue.append('C')\n",
    "print(\"Queue: \",queue)\n",
    "\n",
    "# Deque\n",
    "element = queue.pop(0)\n",
    "print(\"Dequeue \",element)\n",
    "\n",
    "# Peek\n",
    "frontElement = queue[0]\n",
    "print(\"Peek: \",frontElement)\n",
    "\n",
    "# isEmpty\n",
    "isEmpty = not bool(queue)\n",
    "print(\"isEmpty: \",isEmpty)\n",
    "\n",
    "# Size\n",
    "print(\"Size: \",len(queue))\n",
    "\n"
   ]
  },
  {
   "cell_type": "markdown",
   "metadata": {},
   "source": [
    "### Queues implementation using class"
   ]
  },
  {
   "cell_type": "code",
   "execution_count": 8,
   "metadata": {},
   "outputs": [
    {
     "name": "stdout",
     "output_type": "stream",
     "text": [
      "enqueue:  ['A', 'B', 'C']\n",
      "dequeue:  A\n",
      "enqueue:  ['B', 'C']\n",
      "isEmpty:  False\n",
      "size:  2\n",
      "peek:  B\n"
     ]
    }
   ],
   "source": [
    "class Queue:\n",
    "    def __init__(self):\n",
    "        self.queue = []\n",
    "\n",
    "    # enqueue - add elment at last index\n",
    "    def enqueue(self,element):\n",
    "        self.queue.append(element)\n",
    "\n",
    "    def dequeue(self):\n",
    "        element = self.queue.pop(0)\n",
    "        return element\n",
    "    \n",
    "    # returns first element in queue\n",
    "    def peek(self):\n",
    "        return self.queue[0]\n",
    "    \n",
    "    def isEmpty(self):\n",
    "        return not bool(self.queue)\n",
    "    \n",
    "    # returns size of queue\n",
    "    def size(self):\n",
    "        return len(self.queue)\n",
    "    \n",
    "\n",
    "myQueue = Queue()\n",
    "\n",
    "# enqueue\n",
    "myQueue.enqueue('A')\n",
    "myQueue.enqueue('B')\n",
    "myQueue.enqueue('C')\n",
    "print(\"enqueue: \",myQueue.queue)\n",
    "\n",
    "# dequeue\n",
    "element = myQueue.dequeue()\n",
    "print(\"dequeue: \",element)\n",
    "print(\"enqueue: \",myQueue.queue)\n",
    "\n",
    "print(\"isEmpty: \",myQueue.isEmpty())\n",
    "\n",
    "print(\"size: \",myQueue.size())\n",
    "\n",
    "print(\"peek: \",myQueue.peek())"
   ]
  },
  {
   "cell_type": "code",
   "execution_count": null,
   "metadata": {},
   "outputs": [],
   "source": []
  }
 ],
 "metadata": {
  "kernelspec": {
   "display_name": "Python 3",
   "language": "python",
   "name": "python3"
  },
  "language_info": {
   "codemirror_mode": {
    "name": "ipython",
    "version": 3
   },
   "file_extension": ".py",
   "mimetype": "text/x-python",
   "name": "python",
   "nbconvert_exporter": "python",
   "pygments_lexer": "ipython3",
   "version": "3.10.12"
  }
 },
 "nbformat": 4,
 "nbformat_minor": 2
}
